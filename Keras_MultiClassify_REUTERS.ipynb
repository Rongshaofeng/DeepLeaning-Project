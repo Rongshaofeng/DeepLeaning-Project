{
  "nbformat": 4,
  "nbformat_minor": 0,
  "metadata": {
    "colab": {
      "name": "Keras_MultiClassify_REUTERS.ipynb",
      "provenance": [],
      "collapsed_sections": [],
      "authorship_tag": "ABX9TyNEX1I7/thBzzViv3pynvWu",
      "include_colab_link": true
    },
    "kernelspec": {
      "name": "python3",
      "display_name": "Python 3"
    },
    "accelerator": "TPU"
  },
  "cells": [
    {
      "cell_type": "markdown",
      "metadata": {
        "id": "view-in-github",
        "colab_type": "text"
      },
      "source": [
        "<a href=\"https://colab.research.google.com/github/Rongshaofeng/DeepLeaning-Project/blob/master/Keras_MultiClassify_REUTERS.ipynb\" target=\"_parent\"><img src=\"https://colab.research.google.com/assets/colab-badge.svg\" alt=\"Open In Colab\"/></a>"
      ]
    },
    {
      "cell_type": "code",
      "metadata": {
        "id": "pS3JudpaXV2C",
        "colab_type": "code",
        "colab": {}
      },
      "source": [
        "#使用路透社新闻数据实现新闻标题多分类任务\n",
        "#导入tensorflow和高阶api keras\n",
        "import tensorflow as tf\n",
        "from tensorflow import keras"
      ],
      "execution_count": 0,
      "outputs": []
    },
    {
      "cell_type": "code",
      "metadata": {
        "id": "6W2CzEjgfhbs",
        "colab_type": "code",
        "outputId": "f6cf4c92-a087-41ad-ba77-a7d1480c04b0",
        "colab": {
          "base_uri": "https://localhost:8080/",
          "height": 68
        }
      },
      "source": [
        "#导入数据集路透社新闻数据\n",
        "from keras.datasets import reuters\n",
        "#加载训练集并只加载高频的10000词\n",
        "(train_data,train_labels),(test_data,test_labels)=reuters.load_data(num_words=10000)"
      ],
      "execution_count": 2,
      "outputs": [
        {
          "output_type": "stream",
          "text": [
            "Using TensorFlow backend.\n"
          ],
          "name": "stderr"
        },
        {
          "output_type": "stream",
          "text": [
            "Downloading data from https://s3.amazonaws.com/text-datasets/reuters.npz\n",
            "2113536/2110848 [==============================] - 0s 0us/step\n"
          ],
          "name": "stdout"
        }
      ]
    },
    {
      "cell_type": "code",
      "metadata": {
        "id": "l0md7iSefy-w",
        "colab_type": "code",
        "outputId": "b93c78bc-95df-486a-8ecf-a9e74d2a0e07",
        "colab": {
          "base_uri": "https://localhost:8080/",
          "height": 51
        }
      },
      "source": [
        "#打印训练集和测试集数量\n",
        "print(len(train_data))\n",
        "print(len(test_data))"
      ],
      "execution_count": 3,
      "outputs": [
        {
          "output_type": "stream",
          "text": [
            "8982\n",
            "2246\n"
          ],
          "name": "stdout"
        }
      ]
    },
    {
      "cell_type": "code",
      "metadata": {
        "id": "D2IkWTXwf61S",
        "colab_type": "code",
        "outputId": "0a63416d-8c3a-4ad1-a058-7c2a200060c1",
        "colab": {
          "base_uri": "https://localhost:8080/",
          "height": 34
        }
      },
      "source": [
        "#查看下标为10的训练集数据样式\n",
        "print(train_data[10])"
      ],
      "execution_count": 4,
      "outputs": [
        {
          "output_type": "stream",
          "text": [
            "[1, 245, 273, 207, 156, 53, 74, 160, 26, 14, 46, 296, 26, 39, 74, 2979, 3554, 14, 46, 4689, 4329, 86, 61, 3499, 4795, 14, 61, 451, 4329, 17, 12]\n"
          ],
          "name": "stdout"
        }
      ]
    },
    {
      "cell_type": "code",
      "metadata": {
        "id": "64wOpGvYf_w4",
        "colab_type": "code",
        "outputId": "ea27fea5-f66b-4b0e-b379-d0428bcbbe4d",
        "colab": {
          "base_uri": "https://localhost:8080/",
          "height": 51
        }
      },
      "source": [
        "#获取训练集的单词索引字典，并转换为数字索引单词的字典\n",
        "word_index=reuters.get_word_index()\n",
        "reverse_word_index=dict([(value,key) for (key,value) in word_index.items()])\n",
        "#将训练集第一个数据解码看看原文是什么\n",
        "decoded_newswire=' '.join([reverse_word_index.get(i-3,'?') for i in train_data[0]])"
      ],
      "execution_count": 5,
      "outputs": [
        {
          "output_type": "stream",
          "text": [
            "Downloading data from https://s3.amazonaws.com/text-datasets/reuters_word_index.json\n",
            "557056/550378 [==============================] - 0s 0us/step\n"
          ],
          "name": "stdout"
        }
      ]
    },
    {
      "cell_type": "code",
      "metadata": {
        "id": "ywXvdhi4goEG",
        "colab_type": "code",
        "outputId": "f334cd98-2bdb-45ca-d11d-484d3abfe02a",
        "colab": {
          "base_uri": "https://localhost:8080/",
          "height": 34
        }
      },
      "source": [
        "#标签是0-45内的整数，话题索引号\n",
        "print(train_labels[10])"
      ],
      "execution_count": 6,
      "outputs": [
        {
          "output_type": "stream",
          "text": [
            "3\n"
          ],
          "name": "stdout"
        }
      ]
    },
    {
      "cell_type": "code",
      "metadata": {
        "id": "rqPg-Qhtg9nZ",
        "colab_type": "code",
        "colab": {}
      },
      "source": [
        "#导入numpy并定义序列向量化函数，将sequences中第i个单词的索引数字处数组设置为1，完成向量化\n",
        "import numpy as np\n",
        "\n",
        "def vectorize_sequences(sequences,dimension=10000):\n",
        "  results=np.zeros((len(sequences),dimension))\n",
        "  for i,sequence in enumerate(sequences):\n",
        "    results[i,sequence]=1\n",
        "  return results\n",
        "\n",
        "x_train=vectorize_sequences(train_data)\n",
        "x_test=vectorize_sequences(test_data)"
      ],
      "execution_count": 0,
      "outputs": []
    },
    {
      "cell_type": "code",
      "metadata": {
        "id": "VbGrTB_Mh_uG",
        "colab_type": "code",
        "colab": {}
      },
      "source": [
        "#将标签one-hot编码，即数组下标为类别号的值为1，其他为0\n",
        "def to_one_hot(labels,dimension=46):\n",
        "  results=np.zeros((len(labels),dimension))\n",
        "  for i,label in enumerate(labels):\n",
        "    results[i,label]=1\n",
        "  return results"
      ],
      "execution_count": 0,
      "outputs": []
    },
    {
      "cell_type": "code",
      "metadata": {
        "id": "Mqrtca95iniB",
        "colab_type": "code",
        "colab": {}
      },
      "source": [
        "one_hot_train_labels=to_one_hot(train_labels)\n",
        "one_hot_test_labels=to_one_hot(test_labels)"
      ],
      "execution_count": 0,
      "outputs": []
    },
    {
      "cell_type": "code",
      "metadata": {
        "id": "-PURukWPi3tB",
        "colab_type": "code",
        "outputId": "6ca459f5-7363-4715-abf1-1676341629be",
        "colab": {
          "base_uri": "https://localhost:8080/",
          "height": 51
        }
      },
      "source": [
        "print(one_hot_test_labels[0])"
      ],
      "execution_count": 10,
      "outputs": [
        {
          "output_type": "stream",
          "text": [
            "[0. 0. 0. 1. 0. 0. 0. 0. 0. 0. 0. 0. 0. 0. 0. 0. 0. 0. 0. 0. 0. 0. 0. 0.\n",
            " 0. 0. 0. 0. 0. 0. 0. 0. 0. 0. 0. 0. 0. 0. 0. 0. 0. 0. 0. 0. 0. 0.]\n"
          ],
          "name": "stdout"
        }
      ]
    },
    {
      "cell_type": "code",
      "metadata": {
        "id": "DBdBkPqwi6jC",
        "colab_type": "code",
        "colab": {}
      },
      "source": [
        "#或者使用keras内置onehot\n",
        "from keras.utils.np_utils import to_categorical\n",
        "\n",
        "one_hot_train_labels=to_categorical(train_labels)\n",
        "one_hot_test_labels=to_categorical(test_labels)"
      ],
      "execution_count": 0,
      "outputs": []
    },
    {
      "cell_type": "code",
      "metadata": {
        "id": "_sjlOmitj3G-",
        "colab_type": "code",
        "outputId": "5404c213-47af-41ab-9172-61dd46f22b13",
        "colab": {
          "base_uri": "https://localhost:8080/",
          "height": 51
        }
      },
      "source": [
        "print(one_hot_test_labels[1])"
      ],
      "execution_count": 12,
      "outputs": [
        {
          "output_type": "stream",
          "text": [
            "[0. 0. 0. 0. 0. 0. 0. 0. 0. 0. 1. 0. 0. 0. 0. 0. 0. 0. 0. 0. 0. 0. 0. 0.\n",
            " 0. 0. 0. 0. 0. 0. 0. 0. 0. 0. 0. 0. 0. 0. 0. 0. 0. 0. 0. 0. 0. 0.]\n"
          ],
          "name": "stdout"
        }
      ]
    },
    {
      "cell_type": "code",
      "metadata": {
        "id": "f5cz1mjAj7V6",
        "colab_type": "code",
        "colab": {}
      },
      "source": [
        "#使用keras建立全连接模型实现多分类\n",
        "model=tf.keras.models.Sequential([\n",
        "  tf.keras.layers.Dense(64,activation='relu'),\n",
        "  tf.keras.layers.Dense(64,activation='relu'),\n",
        "  tf.keras.layers.Dense(46,activation='softmax')\n",
        "])"
      ],
      "execution_count": 0,
      "outputs": []
    },
    {
      "cell_type": "code",
      "metadata": {
        "id": "lSp8f6TZmJUx",
        "colab_type": "code",
        "colab": {}
      },
      "source": [
        "#编译模型指定优化器，损失函数，评估指标\n",
        "model.compile(optimizer=keras.optimizers.RMSprop(lr=0.001),loss=keras.losses.categorical_crossentropy,metrics=[keras.metrics.categorical_accuracy])"
      ],
      "execution_count": 0,
      "outputs": []
    },
    {
      "cell_type": "code",
      "metadata": {
        "id": "Gph12c5OnIi5",
        "colab_type": "code",
        "colab": {}
      },
      "source": [
        "#使用前1000个数据做验证集，后1000个做训练集\n",
        "x_val=x_train[:1000]\n",
        "partial_x_train=x_train[1000:]\n",
        "\n",
        "y_val=one_hot_train_labels[:1000]\n",
        "partial_y_train=one_hot_train_labels[1000:]"
      ],
      "execution_count": 0,
      "outputs": []
    },
    {
      "cell_type": "code",
      "metadata": {
        "id": "xVjGGuTUo-VH",
        "colab_type": "code",
        "outputId": "84aa11f5-94c5-4481-e8ce-b54f49965543",
        "colab": {
          "base_uri": "https://localhost:8080/",
          "height": 782
        }
      },
      "source": [
        "#开始训练模型，将训练集放入，指定训练轮数，批大小，验证集，并将训练的过程保存到history对象中\n",
        "history=model.fit(partial_x_train,partial_y_train,epochs=20,batch_size=512,validation_data=(x_val,y_val))"
      ],
      "execution_count": 16,
      "outputs": [
        {
          "output_type": "stream",
          "text": [
            "WARNING:tensorflow:From /usr/local/lib/python3.6/dist-packages/tensorflow_core/python/ops/resource_variable_ops.py:1630: calling BaseResourceVariable.__init__ (from tensorflow.python.ops.resource_variable_ops) with constraint is deprecated and will be removed in a future version.\n",
            "Instructions for updating:\n",
            "If using Keras pass *_constraint arguments to layers.\n",
            "Train on 7982 samples, validate on 1000 samples\n",
            "Epoch 1/20\n",
            "7982/7982 [==============================] - 1s 162us/sample - loss: 2.6253 - categorical_accuracy: 0.5033 - val_loss: 1.7335 - val_categorical_accuracy: 0.6530\n",
            "Epoch 2/20\n",
            "7982/7982 [==============================] - 1s 121us/sample - loss: 1.4246 - categorical_accuracy: 0.7180 - val_loss: 1.2998 - val_categorical_accuracy: 0.7210\n",
            "Epoch 3/20\n",
            "7982/7982 [==============================] - 1s 123us/sample - loss: 1.0646 - categorical_accuracy: 0.7761 - val_loss: 1.1341 - val_categorical_accuracy: 0.7610\n",
            "Epoch 4/20\n",
            "7982/7982 [==============================] - 1s 125us/sample - loss: 0.8431 - categorical_accuracy: 0.8192 - val_loss: 1.0958 - val_categorical_accuracy: 0.7530\n",
            "Epoch 5/20\n",
            "7982/7982 [==============================] - 1s 125us/sample - loss: 0.6784 - categorical_accuracy: 0.8603 - val_loss: 0.9527 - val_categorical_accuracy: 0.8030\n",
            "Epoch 6/20\n",
            "7982/7982 [==============================] - 1s 125us/sample - loss: 0.5421 - categorical_accuracy: 0.8844 - val_loss: 0.9217 - val_categorical_accuracy: 0.8010\n",
            "Epoch 7/20\n",
            "7982/7982 [==============================] - 1s 124us/sample - loss: 0.4407 - categorical_accuracy: 0.9098 - val_loss: 0.8909 - val_categorical_accuracy: 0.8150\n",
            "Epoch 8/20\n",
            "7982/7982 [==============================] - 1s 124us/sample - loss: 0.3577 - categorical_accuracy: 0.9236 - val_loss: 0.8878 - val_categorical_accuracy: 0.8130\n",
            "Epoch 9/20\n",
            "7982/7982 [==============================] - 1s 125us/sample - loss: 0.2951 - categorical_accuracy: 0.9360 - val_loss: 0.8815 - val_categorical_accuracy: 0.8140\n",
            "Epoch 10/20\n",
            "7982/7982 [==============================] - 1s 125us/sample - loss: 0.2510 - categorical_accuracy: 0.9429 - val_loss: 0.8874 - val_categorical_accuracy: 0.8200\n",
            "Epoch 11/20\n",
            "7982/7982 [==============================] - 1s 121us/sample - loss: 0.2128 - categorical_accuracy: 0.9479 - val_loss: 0.8950 - val_categorical_accuracy: 0.8210\n",
            "Epoch 12/20\n",
            "7982/7982 [==============================] - 1s 121us/sample - loss: 0.1881 - categorical_accuracy: 0.9508 - val_loss: 0.9235 - val_categorical_accuracy: 0.8150\n",
            "Epoch 13/20\n",
            "7982/7982 [==============================] - 1s 124us/sample - loss: 0.1697 - categorical_accuracy: 0.9554 - val_loss: 0.9274 - val_categorical_accuracy: 0.8210\n",
            "Epoch 14/20\n",
            "7982/7982 [==============================] - 1s 123us/sample - loss: 0.1523 - categorical_accuracy: 0.9548 - val_loss: 0.9587 - val_categorical_accuracy: 0.8180\n",
            "Epoch 15/20\n",
            "7982/7982 [==============================] - 1s 124us/sample - loss: 0.1442 - categorical_accuracy: 0.9553 - val_loss: 1.0072 - val_categorical_accuracy: 0.7960\n",
            "Epoch 16/20\n",
            "7982/7982 [==============================] - 1s 126us/sample - loss: 0.1305 - categorical_accuracy: 0.9585 - val_loss: 0.9774 - val_categorical_accuracy: 0.8180\n",
            "Epoch 17/20\n",
            "7982/7982 [==============================] - 1s 121us/sample - loss: 0.1266 - categorical_accuracy: 0.9555 - val_loss: 1.0252 - val_categorical_accuracy: 0.8150\n",
            "Epoch 18/20\n",
            "7982/7982 [==============================] - 1s 120us/sample - loss: 0.1218 - categorical_accuracy: 0.9575 - val_loss: 1.0486 - val_categorical_accuracy: 0.8120\n",
            "Epoch 19/20\n",
            "7982/7982 [==============================] - 1s 121us/sample - loss: 0.1111 - categorical_accuracy: 0.9577 - val_loss: 1.0152 - val_categorical_accuracy: 0.8160\n",
            "Epoch 20/20\n",
            "7982/7982 [==============================] - 1s 121us/sample - loss: 0.1173 - categorical_accuracy: 0.9574 - val_loss: 1.0642 - val_categorical_accuracy: 0.8030\n"
          ],
          "name": "stdout"
        }
      ]
    },
    {
      "cell_type": "code",
      "metadata": {
        "id": "ZTj6AAbTpXQ0",
        "colab_type": "code",
        "outputId": "ab60dfa9-0944-4f4c-b513-463ebd9864c5",
        "colab": {
          "base_uri": "https://localhost:8080/",
          "height": 279
        }
      },
      "source": [
        "#绘制图像，观察训练过程训练集和验证集指标变化\n",
        "import matplotlib.pyplot as plt\n",
        "\n",
        "loss=history.history['loss']\n",
        "val_loss=history.history['val_loss']\n",
        "\n",
        "epochs=range(1,len(loss)+1)\n",
        "\n",
        "plt.plot(epochs,loss,'bo',label='Training loss')\n",
        "plt.plot(epochs,val_loss,'b',label='Validation loss')\n",
        "plt.xlabel('Epochs')\n",
        "plt.ylabel('Loss')\n",
        "plt.legend()\n",
        "\n",
        "plt.show()"
      ],
      "execution_count": 17,
      "outputs": [
        {
          "output_type": "display_data",
          "data": {
            "image/png": "[encoded data removed]",
            "text/plain": [
              "<Figure size 432x288 with 1 Axes>"
            ]
          },
          "metadata": {
            "tags": []
          }
        }
      ]
    },
    {
      "cell_type": "code",
      "metadata": {
        "id": "GteZ6d-sq9r_",
        "colab_type": "code",
        "outputId": "927b3252-5bd2-4df8-ec3a-24ad9745fa1c",
        "colab": {
          "base_uri": "https://localhost:8080/",
          "height": 281
        }
      },
      "source": [
        "plt.clf()\n",
        "\n",
        "print(history.history.keys())\n",
        "acc=history.history['categorical_accuracy']\n",
        "val_acc=history.history['val_categorical_accuracy']\n",
        "\n",
        "plt.plot(epochs,acc,'bo',label='Training acc')\n",
        "plt.plot(epochs,val_acc,'b',label='Validation acc')\n",
        "\n",
        "plt.legend()\n",
        "\n",
        "plt.show()"
      ],
      "execution_count": 18,
      "outputs": [
        {
          "output_type": "stream",
          "text": [
            "dict_keys(['loss', 'categorical_accuracy', 'val_loss', 'val_categorical_accuracy'])\n"
          ],
          "name": "stdout"
        },
        {
          "output_type": "display_data",
          "data": {
            "image/png": "[encoded data removed]",
            "text/plain": [
              "<Figure size 432x288 with 1 Axes>"
            ]
          },
          "metadata": {
            "tags": []
          }
        }
      ]
    },
    {
      "cell_type": "code",
      "metadata": {
        "id": "quGL3jkGrgtD",
        "colab_type": "code",
        "colab": {}
      },
      "source": [
        "#由图可知，模型出现了过拟合，训练集loss降低同时验证集loss开始上升，训练集acc上升同时验证集acc不变或开始下降"
      ],
      "execution_count": 0,
      "outputs": []
    }
  ]
}