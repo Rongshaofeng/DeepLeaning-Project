{
  "nbformat": 4,
  "nbformat_minor": 0,
  "metadata": {
    "colab": {
      "name": "Keras_IMDB.ipynb",
      "provenance": [],
      "collapsed_sections": [],
      "authorship_tag": "ABX9TyOjXXOpOP2KE1/rDmErllL+",
      "include_colab_link": true
    },
    "kernelspec": {
      "name": "python3",
      "display_name": "Python 3"
    }
  },
  "cells": [
    {
      "cell_type": "markdown",
      "metadata": {
        "id": "view-in-github",
        "colab_type": "text"
      },
      "source": [
        "<a href=\"https://colab.research.google.com/github/Rongshaofeng/DeepLeaning-Project/blob/master/Keras_BinaryClassify_IMDB.ipynb\" target=\"_parent\"><img src=\"https://colab.research.google.com/assets/colab-badge.svg\" alt=\"Open In Colab\"/></a>"
      ]
    },
    {
      "cell_type": "code",
      "metadata": {
        "id": "t-4jTL3rJ7zM",
        "colab_type": "code",
        "colab": {}
      },
      "source": [
        "#使用IMDB数据集实现二分类任务\n",
        "from keras.datasets import imdb\n",
        "import tensorflow as tf\n",
        "import numpy as np\n",
        "import matplotlib.pyplot as plt\n"
      ],
      "execution_count": 0,
      "outputs": []
    },
    {
      "cell_type": "code",
      "metadata": {
        "id": "QoHJDfx3QbKp",
        "colab_type": "code",
        "colab": {}
      },
      "source": [
        "#使用数据集中前10000个最常出现的词\n",
        "(train_data,train_labels),(test_data,test_labels)=imdb.load_data(num_words=10000)"
      ],
      "execution_count": 0,
      "outputs": []
    },
    {
      "cell_type": "code",
      "metadata": {
        "id": "MlRjTQHiQ7iA",
        "colab_type": "code",
        "outputId": "0781b9a9-01c3-432f-84bd-54561c3e85d4",
        "colab": {
          "base_uri": "https://localhost:8080/",
          "height": 1000
        }
      },
      "source": [
        "train_data[0]"
      ],
      "execution_count": 0,
      "outputs": [
        {
          "output_type": "execute_result",
          "data": {
            "text/plain": [
              "[1,\n",
              " 14,\n",
              " 22,\n",
              " 16,\n",
              " 43,\n",
              " 530,\n",
              " 973,\n",
              " 1622,\n",
              " 1385,\n",
              " 65,\n",
              " 458,\n",
              " 4468,\n",
              " 66,\n",
              " 3941,\n",
              " 4,\n",
              " 173,\n",
              " 36,\n",
              " 256,\n",
              " 5,\n",
              " 25,\n",
              " 100,\n",
              " 43,\n",
              " 838,\n",
              " 112,\n",
              " 50,\n",
              " 670,\n",
              " 2,\n",
              " 9,\n",
              " 35,\n",
              " 480,\n",
              " 284,\n",
              " 5,\n",
              " 150,\n",
              " 4,\n",
              " 172,\n",
              " 112,\n",
              " 167,\n",
              " 2,\n",
              " 336,\n",
              " 385,\n",
              " 39,\n",
              " 4,\n",
              " 172,\n",
              " 4536,\n",
              " 1111,\n",
              " 17,\n",
              " 546,\n",
              " 38,\n",
              " 13,\n",
              " 447,\n",
              " 4,\n",
              " 192,\n",
              " 50,\n",
              " 16,\n",
              " 6,\n",
              " 147,\n",
              " 2025,\n",
              " 19,\n",
              " 14,\n",
              " 22,\n",
              " 4,\n",
              " 1920,\n",
              " 4613,\n",
              " 469,\n",
              " 4,\n",
              " 22,\n",
              " 71,\n",
              " 87,\n",
              " 12,\n",
              " 16,\n",
              " 43,\n",
              " 530,\n",
              " 38,\n",
              " 76,\n",
              " 15,\n",
              " 13,\n",
              " 1247,\n",
              " 4,\n",
              " 22,\n",
              " 17,\n",
              " 515,\n",
              " 17,\n",
              " 12,\n",
              " 16,\n",
              " 626,\n",
              " 18,\n",
              " 2,\n",
              " 5,\n",
              " 62,\n",
              " 386,\n",
              " 12,\n",
              " 8,\n",
              " 316,\n",
              " 8,\n",
              " 106,\n",
              " 5,\n",
              " 4,\n",
              " 2223,\n",
              " 5244,\n",
              " 16,\n",
              " 480,\n",
              " 66,\n",
              " 3785,\n",
              " 33,\n",
              " 4,\n",
              " 130,\n",
              " 12,\n",
              " 16,\n",
              " 38,\n",
              " 619,\n",
              " 5,\n",
              " 25,\n",
              " 124,\n",
              " 51,\n",
              " 36,\n",
              " 135,\n",
              " 48,\n",
              " 25,\n",
              " 1415,\n",
              " 33,\n",
              " 6,\n",
              " 22,\n",
              " 12,\n",
              " 215,\n",
              " 28,\n",
              " 77,\n",
              " 52,\n",
              " 5,\n",
              " 14,\n",
              " 407,\n",
              " 16,\n",
              " 82,\n",
              " 2,\n",
              " 8,\n",
              " 4,\n",
              " 107,\n",
              " 117,\n",
              " 5952,\n",
              " 15,\n",
              " 256,\n",
              " 4,\n",
              " 2,\n",
              " 7,\n",
              " 3766,\n",
              " 5,\n",
              " 723,\n",
              " 36,\n",
              " 71,\n",
              " 43,\n",
              " 530,\n",
              " 476,\n",
              " 26,\n",
              " 400,\n",
              " 317,\n",
              " 46,\n",
              " 7,\n",
              " 4,\n",
              " 2,\n",
              " 1029,\n",
              " 13,\n",
              " 104,\n",
              " 88,\n",
              " 4,\n",
              " 381,\n",
              " 15,\n",
              " 297,\n",
              " 98,\n",
              " 32,\n",
              " 2071,\n",
              " 56,\n",
              " 26,\n",
              " 141,\n",
              " 6,\n",
              " 194,\n",
              " 7486,\n",
              " 18,\n",
              " 4,\n",
              " 226,\n",
              " 22,\n",
              " 21,\n",
              " 134,\n",
              " 476,\n",
              " 26,\n",
              " 480,\n",
              " 5,\n",
              " 144,\n",
              " 30,\n",
              " 5535,\n",
              " 18,\n",
              " 51,\n",
              " 36,\n",
              " 28,\n",
              " 224,\n",
              " 92,\n",
              " 25,\n",
              " 104,\n",
              " 4,\n",
              " 226,\n",
              " 65,\n",
              " 16,\n",
              " 38,\n",
              " 1334,\n",
              " 88,\n",
              " 12,\n",
              " 16,\n",
              " 283,\n",
              " 5,\n",
              " 16,\n",
              " 4472,\n",
              " 113,\n",
              " 103,\n",
              " 32,\n",
              " 15,\n",
              " 16,\n",
              " 5345,\n",
              " 19,\n",
              " 178,\n",
              " 32]"
            ]
          },
          "metadata": {
            "tags": []
          },
          "execution_count": 18
        }
      ]
    },
    {
      "cell_type": "code",
      "metadata": {
        "id": "pyWB7r4ORDKG",
        "colab_type": "code",
        "outputId": "254eeddc-dba0-446b-ce8d-79a851f85572",
        "colab": {
          "base_uri": "https://localhost:8080/",
          "height": 35
        }
      },
      "source": [
        "#查看最大的单词索引\n",
        "max([max(sequence) for sequence in train_data])"
      ],
      "execution_count": 0,
      "outputs": [
        {
          "output_type": "execute_result",
          "data": {
            "text/plain": [
              "9999"
            ]
          },
          "metadata": {
            "tags": []
          },
          "execution_count": 19
        }
      ]
    },
    {
      "cell_type": "code",
      "metadata": {
        "id": "cAIP61q1WIe7",
        "colab_type": "code",
        "outputId": "6da68b11-35d6-4aea-e9fc-3de75bf5bb8f",
        "colab": {
          "base_uri": "https://localhost:8080/",
          "height": 55
        }
      },
      "source": [
        "#单词映射到整数的词典\n",
        "word_index=imdb.get_word_index()\n",
        "#将词典映射调转\n",
        "reverse_word_index=dict([(value,key) for (key,value) in word_index.items()])\n",
        "#将第一个评论解码看看,索引减去了3，因为0，1，2使为padding，start of sequence,unknown分别保留的索引\n",
        "decoded_review=' '.join([reverse_word_index.get(i-3,'?') for i in train_data[0]])\n",
        "print(decoded_review)"
      ],
      "execution_count": 0,
      "outputs": [
        {
          "output_type": "stream",
          "text": [
            "? this film was just brilliant casting location scenery story direction everyone's really suited the part they played and you could just imagine being there robert ? is an amazing actor and now the same being director ? father came from the same scottish island as myself so i loved the fact there was a real connection with this film the witty remarks throughout the film were great it was just brilliant so much that i bought the film as soon as it was released for ? and would recommend it to everyone to watch and the fly fishing was amazing really cried at the end it was so sad and you know what they say if you cry at a film it must have been good and this definitely was also ? to the two little boy's that played the ? of norman and paul they were just brilliant children are often left out of the ? list i think because the stars that play them all grown up are such a big profile for the whole film but these children are amazing and should be praised for what they have done don't you think the whole story was so lovely because it was true and was someone's life after all that was shared with us all\n"
          ],
          "name": "stdout"
        }
      ]
    },
    {
      "cell_type": "code",
      "metadata": {
        "id": "anfd8VWFY9Iz",
        "colab_type": "code",
        "colab": {}
      },
      "source": [
        "#将数据数据向量化\n",
        "def vectorize_sequences(sequences,dimension=10000):\n",
        "  results= np.zeros((len(sequences),dimension))\n",
        "  for i,sequence in enumerate(sequences):\n",
        "    results[i,sequence]=1\n",
        "  return results"
      ],
      "execution_count": 0,
      "outputs": []
    },
    {
      "cell_type": "code",
      "metadata": {
        "id": "2VX27ek9AL_X",
        "colab_type": "code",
        "colab": {}
      },
      "source": [
        "x_train=vectorize_sequences(train_data)\n",
        "x_test=vectorize_sequences(test_data)"
      ],
      "execution_count": 0,
      "outputs": []
    },
    {
      "cell_type": "code",
      "metadata": {
        "id": "8QWkVRHpAhgt",
        "colab_type": "code",
        "outputId": "9a0637fd-9b56-4173-d445-52fa76e9fbf9",
        "colab": {
          "base_uri": "https://localhost:8080/",
          "height": 35
        }
      },
      "source": [
        "x_train[0]"
      ],
      "execution_count": 0,
      "outputs": [
        {
          "output_type": "execute_result",
          "data": {
            "text/plain": [
              "array([0., 1., 1., ..., 0., 0., 0.])"
            ]
          },
          "metadata": {
            "tags": []
          },
          "execution_count": 23
        }
      ]
    },
    {
      "cell_type": "code",
      "metadata": {
        "id": "lEZhmDe4AkEE",
        "colab_type": "code",
        "colab": {}
      },
      "source": [
        "y_train=np.asarray(train_labels).astype('float32')\n",
        "y_test=np.asarray(test_labels).astype('float32')"
      ],
      "execution_count": 0,
      "outputs": []
    },
    {
      "cell_type": "code",
      "metadata": {
        "id": "XH5BIlmGEmUz",
        "colab_type": "code",
        "outputId": "2b136690-7a7c-482b-cbbf-5decc74f3012",
        "colab": {
          "base_uri": "https://localhost:8080/",
          "height": 35
        }
      },
      "source": [
        "y_train[0]"
      ],
      "execution_count": 0,
      "outputs": [
        {
          "output_type": "execute_result",
          "data": {
            "text/plain": [
              "1.0"
            ]
          },
          "metadata": {
            "tags": []
          },
          "execution_count": 25
        }
      ]
    },
    {
      "cell_type": "code",
      "metadata": {
        "id": "V4kDaaH-En6Y",
        "colab_type": "code",
        "colab": {}
      },
      "source": [
        "from keras import models\n",
        "from keras import layers\n",
        "from keras import optimizers"
      ],
      "execution_count": 0,
      "outputs": []
    },
    {
      "cell_type": "code",
      "metadata": {
        "id": "ychtbS4uHhdm",
        "colab_type": "code",
        "colab": {}
      },
      "source": [
        "#模型搭建\n",
        "model=models.Sequential()\n",
        "model.add(layers.Dense(16,activation='relu',input_shape=(10000,)))\n",
        "model.add(layers.Dense(16,activation='relu'))\n",
        "model.add(layers.Dense(1,activation='sigmoid'))"
      ],
      "execution_count": 0,
      "outputs": []
    },
    {
      "cell_type": "code",
      "metadata": {
        "id": "eKHJtIN7IH53",
        "colab_type": "code",
        "colab": {}
      },
      "source": [
        "#编译模型，指定优化器，损失函数，评估指标\n",
        "model.compile(optimizer=optimizers.RMSprop(lr=0.001),loss='binary_crossentropy',metrics=['accuracy'])"
      ],
      "execution_count": 0,
      "outputs": []
    },
    {
      "cell_type": "code",
      "metadata": {
        "id": "vAGYzEMeKIqM",
        "colab_type": "code",
        "colab": {}
      },
      "source": [
        "#在训练集中划分出验证集\n",
        "x_val=x_train[:10000]\n",
        "partial_x_train=x_train[10000:]\n",
        "\n",
        "y_val=y_train[:10000]\n",
        "partial_y_train=y_train[10000:]"
      ],
      "execution_count": 0,
      "outputs": []
    },
    {
      "cell_type": "code",
      "metadata": {
        "id": "pA7N40HXLyxy",
        "colab_type": "code",
        "outputId": "220aa140-14b8-4cc7-8116-39ac295dc5e1",
        "colab": {
          "base_uri": "https://localhost:8080/",
          "height": 1000
        }
      },
      "source": [
        "history=model.fit(partial_x_train,partial_y_train,epochs=20,batch_size=512,validation_data=(x_val,y_val))"
      ],
      "execution_count": 0,
      "outputs": [
        {
          "output_type": "stream",
          "text": [
            "WARNING:tensorflow:From /usr/local/lib/python3.6/dist-packages/keras/backend/tensorflow_backend.py:1033: The name tf.assign_add is deprecated. Please use tf.compat.v1.assign_add instead.\n",
            "\n",
            "WARNING:tensorflow:From /usr/local/lib/python3.6/dist-packages/keras/backend/tensorflow_backend.py:1020: The name tf.assign is deprecated. Please use tf.compat.v1.assign instead.\n",
            "\n",
            "WARNING:tensorflow:From /usr/local/lib/python3.6/dist-packages/keras/backend/tensorflow_backend.py:3005: The name tf.Session is deprecated. Please use tf.compat.v1.Session instead.\n",
            "\n",
            "Train on 15000 samples, validate on 10000 samples\n",
            "Epoch 1/20\n",
            "WARNING:tensorflow:From /usr/local/lib/python3.6/dist-packages/keras/backend/tensorflow_backend.py:190: The name tf.get_default_session is deprecated. Please use tf.compat.v1.get_default_session instead.\n",
            "\n",
            "WARNING:tensorflow:From /usr/local/lib/python3.6/dist-packages/keras/backend/tensorflow_backend.py:197: The name tf.ConfigProto is deprecated. Please use tf.compat.v1.ConfigProto instead.\n",
            "\n",
            "WARNING:tensorflow:From /usr/local/lib/python3.6/dist-packages/keras/backend/tensorflow_backend.py:207: The name tf.global_variables is deprecated. Please use tf.compat.v1.global_variables instead.\n",
            "\n",
            "WARNING:tensorflow:From /usr/local/lib/python3.6/dist-packages/keras/backend/tensorflow_backend.py:216: The name tf.is_variable_initialized is deprecated. Please use tf.compat.v1.is_variable_initialized instead.\n",
            "\n",
            "WARNING:tensorflow:From /usr/local/lib/python3.6/dist-packages/keras/backend/tensorflow_backend.py:223: The name tf.variables_initializer is deprecated. Please use tf.compat.v1.variables_initializer instead.\n",
            "\n",
            "15000/15000 [==============================] - 3s 194us/step - loss: 0.5254 - acc: 0.7929 - val_loss: 0.4011 - val_acc: 0.8704\n",
            "Epoch 2/20\n",
            "15000/15000 [==============================] - 2s 148us/step - loss: 0.3247 - acc: 0.8996 - val_loss: 0.3227 - val_acc: 0.8793\n",
            "Epoch 3/20\n",
            "15000/15000 [==============================] - 2s 147us/step - loss: 0.2380 - acc: 0.9251 - val_loss: 0.2866 - val_acc: 0.8901\n",
            "Epoch 4/20\n",
            "15000/15000 [==============================] - 2s 151us/step - loss: 0.1880 - acc: 0.9385 - val_loss: 0.2828 - val_acc: 0.8879\n",
            "Epoch 5/20\n",
            "15000/15000 [==============================] - 2s 151us/step - loss: 0.1551 - acc: 0.9496 - val_loss: 0.2801 - val_acc: 0.8892\n",
            "Epoch 6/20\n",
            "15000/15000 [==============================] - 2s 150us/step - loss: 0.1255 - acc: 0.9622 - val_loss: 0.3298 - val_acc: 0.8716\n",
            "Epoch 7/20\n",
            "15000/15000 [==============================] - 2s 149us/step - loss: 0.1075 - acc: 0.9683 - val_loss: 0.2983 - val_acc: 0.8860\n",
            "Epoch 8/20\n",
            "15000/15000 [==============================] - 2s 149us/step - loss: 0.0877 - acc: 0.9761 - val_loss: 0.3160 - val_acc: 0.8817\n",
            "Epoch 9/20\n",
            "15000/15000 [==============================] - 2s 150us/step - loss: 0.0734 - acc: 0.9805 - val_loss: 0.3359 - val_acc: 0.8822\n",
            "Epoch 10/20\n",
            "15000/15000 [==============================] - 2s 146us/step - loss: 0.0608 - acc: 0.9851 - val_loss: 0.3702 - val_acc: 0.8756\n",
            "Epoch 11/20\n",
            "15000/15000 [==============================] - 2s 144us/step - loss: 0.0472 - acc: 0.9895 - val_loss: 0.4069 - val_acc: 0.8759\n",
            "Epoch 12/20\n",
            "15000/15000 [==============================] - 2s 143us/step - loss: 0.0384 - acc: 0.9922 - val_loss: 0.4128 - val_acc: 0.8761\n",
            "Epoch 13/20\n",
            "15000/15000 [==============================] - 2s 147us/step - loss: 0.0315 - acc: 0.9938 - val_loss: 0.4424 - val_acc: 0.8740\n",
            "Epoch 14/20\n",
            "15000/15000 [==============================] - 2s 146us/step - loss: 0.0246 - acc: 0.9961 - val_loss: 0.4733 - val_acc: 0.8739\n",
            "Epoch 15/20\n",
            "15000/15000 [==============================] - 2s 146us/step - loss: 0.0193 - acc: 0.9973 - val_loss: 0.4974 - val_acc: 0.8703\n",
            "Epoch 16/20\n",
            "15000/15000 [==============================] - 2s 148us/step - loss: 0.0140 - acc: 0.9986 - val_loss: 0.5183 - val_acc: 0.8704\n",
            "Epoch 17/20\n",
            "15000/15000 [==============================] - 2s 142us/step - loss: 0.0102 - acc: 0.9993 - val_loss: 0.5526 - val_acc: 0.8693\n",
            "Epoch 18/20\n",
            "15000/15000 [==============================] - 2s 140us/step - loss: 0.0103 - acc: 0.9984 - val_loss: 0.5795 - val_acc: 0.8692\n",
            "Epoch 19/20\n",
            "15000/15000 [==============================] - 2s 142us/step - loss: 0.0047 - acc: 0.9998 - val_loss: 0.6076 - val_acc: 0.8676\n",
            "Epoch 20/20\n",
            "15000/15000 [==============================] - 2s 139us/step - loss: 0.0080 - acc: 0.9980 - val_loss: 0.6356 - val_acc: 0.8670\n"
          ],
          "name": "stdout"
        }
      ]
    },
    {
      "cell_type": "code",
      "metadata": {
        "id": "LZE3v8DtMmOe",
        "colab_type": "code",
        "outputId": "62fce7df-869b-444b-b3ea-4bf54d0921d8",
        "colab": {
          "base_uri": "https://localhost:8080/",
          "height": 295
        }
      },
      "source": [
        "#history对象中有history成员，是一个字典，可以用.keys()查看有什么键值，记录了训练过程的指标数值变化\n",
        "history_dict=history.history\n",
        "loss_values=history_dict['loss']\n",
        "val_loss_values=history_dict['val_loss']\n",
        "\n",
        "epochs=range(1,len(loss_values)+1)\n",
        "\n",
        "#b代表blue，o代表圆点\n",
        "plt.plot(epochs,loss_values,'bo',label='Training loss')\n",
        "plt.plot(epochs,val_loss_values,'b',label='Validation loss')\n",
        "plt.title('Training and validation loss')\n",
        "plt.xlabel('Epochs')\n",
        "plt.ylabel('Loss')\n",
        "#显示图例说明\n",
        "plt.legend()\n",
        "\n",
        "plt.show()"
      ],
      "execution_count": 0,
      "outputs": [
        {
          "output_type": "display_data",
          "data": {
            "image/png": "[encoded data removed]",
            "text/plain": [
              "<Figure size 432x288 with 1 Axes>"
            ]
          },
          "metadata": {
            "tags": []
          }
        }
      ]
    },
    {
      "cell_type": "code",
      "metadata": {
        "id": "yjK1HQNRO9u2",
        "colab_type": "code",
        "outputId": "333af5c7-b4c7-4ca2-fab0-53575d71e88d",
        "colab": {
          "base_uri": "https://localhost:8080/",
          "height": 295
        }
      },
      "source": [
        "#清空图像\n",
        "plt.clf()\n",
        "acc=history_dict['acc']\n",
        "val_acc=history_dict['val_acc']\n",
        "\n",
        "plt.plot(epochs,acc,'b*-',label='Train acc')\n",
        "plt.plot(epochs,val_acc,'r+-',label='Validation acc')\n",
        "plt.title('Training and validation accuracy')\n",
        "plt.xlabel('Epochs')\n",
        "plt.ylabel('Accuracy')\n",
        "plt.legend()\n",
        "\n",
        "plt.show()\n",
        "#由图可知过拟合了"
      ],
      "execution_count": 0,
      "outputs": [
        {
          "output_type": "display_data",
          "data": {
            "image/png": "[encoded data removed]",
            "text/plain": [
              "<Figure size 432x288 with 1 Axes>"
            ]
          },
          "metadata": {
            "tags": []
          }
        }
      ]
    },
    {
      "cell_type": "code",
      "metadata": {
        "id": "tN5ldaD6T_Pb",
        "colab_type": "code",
        "outputId": "f3cb9396-e956-4b9b-d655-4309a0f879ea",
        "colab": {
          "base_uri": "https://localhost:8080/",
          "height": 35
        }
      },
      "source": [
        "#使用测试集评估模型，evaluate返回的是loss和accuracy\n",
        "results=model.evaluate(x_test,y_test)"
      ],
      "execution_count": 0,
      "outputs": [
        {
          "output_type": "stream",
          "text": [
            "25000/25000 [==============================] - 2s 75us/step\n"
          ],
          "name": "stdout"
        }
      ]
    },
    {
      "cell_type": "code",
      "metadata": {
        "id": "7PXWQv6CU1p_",
        "colab_type": "code",
        "outputId": "2637aa5c-d66a-4431-a5b3-edd3a20948f3",
        "colab": {
          "base_uri": "https://localhost:8080/",
          "height": 35
        }
      },
      "source": [
        "print(results)"
      ],
      "execution_count": 0,
      "outputs": [
        {
          "output_type": "stream",
          "text": [
            "[0.6969724848914146, 0.85252]\n"
          ],
          "name": "stdout"
        }
      ]
    },
    {
      "cell_type": "code",
      "metadata": {
        "id": "tKhYnVKmU5aW",
        "colab_type": "code",
        "outputId": "3bf53282-43ae-4992-ef50-f25fcf555909",
        "colab": {
          "base_uri": "https://localhost:8080/",
          "height": 143
        }
      },
      "source": [
        "#看看预测的数值都是多少，模型有多相信自己\n",
        "model.predict(x_train)"
      ],
      "execution_count": 0,
      "outputs": [
        {
          "output_type": "execute_result",
          "data": {
            "text/plain": [
              "array([[9.9999547e-01],\n",
              "       [2.8103590e-05],\n",
              "       [8.0466270e-06],\n",
              "       ...,\n",
              "       [1.8417835e-05],\n",
              "       [9.9999875e-01],\n",
              "       [1.9462109e-03]], dtype=float32)"
            ]
          },
          "metadata": {
            "tags": []
          },
          "execution_count": 43
        }
      ]
    },
    {
      "cell_type": "code",
      "metadata": {
        "id": "tz7kON0QVwaU",
        "colab_type": "code",
        "colab": {}
      },
      "source": [
        ""
      ],
      "execution_count": 0,
      "outputs": []
    }
  ]
}